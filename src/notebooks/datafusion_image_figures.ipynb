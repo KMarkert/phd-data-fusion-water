{
 "cells": [
  {
   "cell_type": "markdown",
   "metadata": {
    "id": "x1BThLDVToPs"
   },
   "source": [
    "# Image Figures\n",
    "\n",
    "This notebook is used to visualize the results from data fusion/gap-filling process.\n"
   ]
  },
  {
   "cell_type": "code",
   "execution_count": null,
   "metadata": {
    "id": "O__8Rb-IT2JA"
   },
   "outputs": [],
   "source": [
    "import ee\n",
    "import geemap\n",
    "from geemap import cartoee\n",
    "import cartopy.crs as ccrs\n",
    "import numpy as np\n",
    "import matplotlib.pyplot as plt\n",
    "import matplotlib as mpl\n"
   ]
  },
  {
   "cell_type": "code",
   "execution_count": null,
   "metadata": {
    "id": "ojJBPyFWT-DP"
   },
   "outputs": [],
   "source": [
    "# authenticate with Earth Engine\n",
    "ee.Initialize(\n",
    "    project='byu-hydroinformatics-gee'\n",
    ")"
   ]
  },
  {
   "cell_type": "markdown",
   "metadata": {
    "id": "MHrPxsxW5xhF"
   },
   "source": [
    "## Gabon case"
   ]
  },
  {
   "cell_type": "code",
   "execution_count": null,
   "metadata": {
    "id": "vIQDuzwzabMV"
   },
   "outputs": [],
   "source": [
    "# specify the region \n",
    "region = [9.041135,-1.856765, 9.931033,-0.95823]"
   ]
  },
  {
   "cell_type": "code",
   "execution_count": null,
   "metadata": {
    "id": "oe5UgiPjUBUU"
   },
   "outputs": [],
   "source": [
    "# load in the exported collection\n",
    "ic = ee.ImageCollection('projects/byu-hydroinformatics-gee/assets/kmarkert/datafusion/Gabon_data_fusion') \\\n",
    "    .filterBounds(ee.Geometry.Rectangle(region))"
   ]
  },
  {
   "cell_type": "code",
   "execution_count": null,
   "metadata": {
    "id": "v-rgtqXvUtAc"
   },
   "outputs": [],
   "source": [
    "# filter for the SAR images\n",
    "sar = ic.filter(ee.Filter.stringStartsWith('system:index', 'S1'))"
   ]
  },
  {
   "cell_type": "code",
   "execution_count": null,
   "metadata": {
    "id": "87lV0ts_VCoo"
   },
   "outputs": [],
   "source": [
    "# filter for the optical images\n",
    "optical = ic.filter(ee.Filter.stringStartsWith('system:index', 'LC08'))"
   ]
  },
  {
   "cell_type": "code",
   "execution_count": null,
   "metadata": {
    "id": "DFYmNb30VKKm"
   },
   "outputs": [],
   "source": [
    "# specify the time range for data to visualize\n",
    "start_time = \"2019-05-16\"\n",
    "end_time = \"2019-05-30\""
   ]
  },
  {
   "cell_type": "code",
   "execution_count": null,
   "metadata": {
    "id": "AzGAMrPOZxXe"
   },
   "outputs": [],
   "source": [
    "# get the SAR and optical images for the time range\n",
    "sar_water = sar.filterDate(start_time, end_time).first()\n",
    "optical_water = optical.filterDate(start_time, end_time).first()"
   ]
  },
  {
   "cell_type": "code",
   "execution_count": null,
   "metadata": {
    "id": "3kMD9wP30q6m"
   },
   "outputs": [],
   "source": [
    "# get the date info for the observations\n",
    "sar_obs_date = sar_water.date().format('YYYY-MM-dd').getInfo()\n",
    "optical_obs_date = optical_water.date().format('YYYY-MM-dd').getInfo()"
   ]
  },
  {
   "cell_type": "code",
   "execution_count": null,
   "metadata": {
    "id": "jNksQ08ha2TL"
   },
   "outputs": [],
   "source": [
    "# check to make sure that there is an optical image\n",
    "optical_water.getInfo() is None"
   ]
  },
  {
   "cell_type": "code",
   "execution_count": null,
   "metadata": {
    "id": "BVnAfwvnZlAK"
   },
   "outputs": [],
   "source": [
    "# get the raw observations for visualization\n",
    "sentinel1 = ee.ImageCollection(\"COPERNICUS/S1_GRD\");\n",
    "sentinel1_img = sentinel1.filter(ee.Filter.eq('system:index', sar_water.get('system:index'))).first()\n",
    "s1_vis = {\"bands\": 'VV', \"min\":-25, \"max\":0};\n",
    "\n",
    "landsat8 = ee.ImageCollection(\"LANDSAT/LC08/C02/T1_L2\");\n",
    "landsat8_img = landsat8.filter(ee.Filter.eq('system:index', optical_water.get('system:index'))).first()\n",
    "lc8_vis = {\"bands\":'SR_B7,SR_B5,SR_B3',\"gamma\":1.5, \"min\": 7500 , \"max\":30000};\n"
   ]
  },
  {
   "cell_type": "code",
   "execution_count": null,
   "metadata": {
    "id": "PWAjdglGaNAQ"
   },
   "outputs": [],
   "source": [
    "fig,ax = plt.subplots(ncols=3,nrows=2,figsize=(15,10),\n",
    "                      subplot_kw={'projection': ccrs.PlateCarree()})\n",
    "\n",
    "dimsize = 1500\n",
    "\n",
    "# use cartoee to get a map\n",
    "cartoee.add_layer(ax[0,0], sentinel1_img, region=region, vis_params=s1_vis, dims=dimsize)\n",
    "cartoee.add_layer(ax[0,1], sar_water, region=region, vis_params={\"bands\":'proba',\"min\":0,\"max\":100}, cmap='magma', dims=dimsize)\n",
    "cartoee.add_layer(ax[0,2], sar_water, region=region, vis_params={\"bands\":'water',\"min\":0,\"max\":1}, cmap='Blues', dims=dimsize)\n",
    "\n",
    "\n",
    "# add gridlines to the map at a specified interval\n",
    "cartoee.add_gridlines(ax[0,0], interval=[0.25, 0.25], linestyle=\":\")\n",
    "cartoee.add_gridlines(ax[0,1], interval=[0.25, 0.25], linestyle=\":\")\n",
    "cartoee.add_gridlines(ax[0,2], interval=[0.25, 0.25], linestyle=\":\")\n",
    "\n",
    "\n",
    "ax[0,1].get_yaxis().set_visible(False)\n",
    "ax[0,2].yaxis.tick_right()\n",
    "\n",
    "ax[0,0].set_title(f'a) Sentinel 1 observation {sar_obs_date}',loc='left', fontsize=10)\n",
    "ax[0,1].set_title(f'b) Sentinel 1 water probability',loc='left', fontsize=10)\n",
    "ax[0,2].set_title(f'c) Sentinel 1 predicted water',loc='left', fontsize=10)\n",
    "\n",
    "\n",
    "\n",
    "# use cartoee to get a map\n",
    "cartoee.add_layer(ax[1,0], landsat8_img, region=region, vis_params=lc8_vis, dims=dimsize)\n",
    "cartoee.add_layer(ax[1,1], optical_water, region=region, vis_params={\"bands\":'proba',\"min\":0,\"max\":100}, cmap='magma', dims=dimsize)\n",
    "cartoee.add_layer(ax[1,2], optical_water, region=region, vis_params={\"bands\":'water',\"min\":0,\"max\":1}, cmap='Blues', dims=dimsize)\n",
    "\n",
    "\n",
    "# add gridlines to the map at a specified interval\n",
    "cartoee.add_gridlines(ax[1,0], interval=[0.25, 0.25], linestyle=\":\")\n",
    "cartoee.add_gridlines(ax[1,1], interval=[0.25, 0.25], linestyle=\":\")\n",
    "cartoee.add_gridlines(ax[1,2], interval=[0.25, 0.25], linestyle=\":\")\n",
    "\n",
    "\n",
    "ax[1,1].get_yaxis().set_visible(False)\n",
    "ax[1,2].yaxis.tick_right()\n",
    "\n",
    "\n",
    "ax[1,0].set_title(f'd) Landsat 8 observation {optical_obs_date}',loc='left', fontsize=10)\n",
    "ax[1,1].set_title(f'e) Landsat 8 water probability',loc='left', fontsize=10)\n",
    "ax[1,2].set_title(f'f) Landsat 8 predicted water (gap filled)',loc='left', fontsize=10)\n",
    "\n",
    "\n",
    "cax1 = fig.add_axes([0.41, 0.05, 0.2, 0.007])\n",
    "cax2 = fig.add_axes([0.69, 0.05, 0.2, 0.007])\n",
    "\n",
    "norm1 = mpl.colors.Normalize(vmin=0, vmax=100)\n",
    "\n",
    "cb1 = mpl.colorbar.ColorbarBase(cax1, cmap=mpl.cm.magma,\n",
    "                                norm=norm1,\n",
    "                                orientation='horizontal')\n",
    "cb1.set_label('Probability [%]')\n",
    "\n",
    "bounds = [0.0, 0.5, 1.0]\n",
    "cmap = mpl.colormaps['Blues']\n",
    "cbarcolors = mpl.colors.ListedColormap([mpl.colors.rgb2hex(cmap(i)) for i in range(2)])\n",
    "norm2 = mpl.colors.BoundaryNorm(bounds, cmap.N)\n",
    "\n",
    "cb2 = mpl.colorbar.ColorbarBase(cax2, cmap=cmap,\n",
    "                                norm=norm2,\n",
    "                                orientation='horizontal')\n",
    "\n",
    "cb2.ax.set_xticks([0.25,0.75])\n",
    "cb2.ax.set_xticklabels(['No water','Water'])\n",
    "\n",
    "plt.savefig('gabon_sufacewater.png',dpi=300,bbox_inches='tight',facecolor='white')\n",
    "\n",
    "plt.show()"
   ]
  },
  {
   "cell_type": "markdown",
   "metadata": {
    "id": "y57g5Zq451Su"
   },
   "source": [
    "## Cambodia flood case"
   ]
  },
  {
   "cell_type": "code",
   "execution_count": null,
   "metadata": {
    "id": "LvPP3wXrbCy8"
   },
   "outputs": [],
   "source": [
    "region = [103.9, 12.0, 105.2054, 12.75]"
   ]
  },
  {
   "cell_type": "code",
   "execution_count": null,
   "metadata": {
    "id": "KVsziPQt6NLL"
   },
   "outputs": [],
   "source": [
    "ic = ee.ImageCollection('projects/byu-hydroinformatics-gee/assets/kmarkert/datafusion/Cambodia_data_fusion_v4') \\\n",
    "    .filterBounds(ee.Geometry.Rectangle(region).centroid())"
   ]
  },
  {
   "cell_type": "code",
   "execution_count": null,
   "metadata": {
    "id": "PW8asE4u6QR6"
   },
   "outputs": [],
   "source": [
    "sar = ic.filter(ee.Filter.stringStartsWith('system:index', 'S1'))"
   ]
  },
  {
   "cell_type": "code",
   "execution_count": null,
   "metadata": {
    "id": "KOvud1Lc6SN_"
   },
   "outputs": [],
   "source": [
    "optical = ic.filter(ee.Filter.stringStartsWith('system:index', 'LC08'))"
   ]
  },
  {
   "cell_type": "code",
   "execution_count": null,
   "metadata": {
    "id": "WtNr7ECB6Y5E"
   },
   "outputs": [],
   "source": [
    "start_time = \"2019-05-13\"\n",
    "end_time = \"2019-05-30\"\n"
   ]
  },
  {
   "cell_type": "code",
   "execution_count": null,
   "metadata": {
    "id": "sSdoGXdV6cXx"
   },
   "outputs": [],
   "source": [
    "sar_water = sar.filterDate(start_time, end_time).sort('system:time_start').first()\n",
    "optical_water = optical.filterDate(start_time, end_time).sort('system:time_start').first()"
   ]
  },
  {
   "cell_type": "code",
   "execution_count": null,
   "metadata": {
    "id": "q7JlxqXt0vul"
   },
   "outputs": [],
   "source": [
    "sar_obs_date = sar_water.date().format('YYYY-MM-dd').getInfo()\n",
    "optical_obs_date = optical_water.date().format('YYYY-MM-dd').getInfo()"
   ]
  },
  {
   "cell_type": "code",
   "execution_count": null,
   "metadata": {
    "id": "O96K2UO-6fQv"
   },
   "outputs": [],
   "source": [
    "optical_water.getInfo() is None"
   ]
  },
  {
   "cell_type": "code",
   "execution_count": null,
   "metadata": {
    "id": "E6ymLIUQ6hOl"
   },
   "outputs": [],
   "source": [
    "sentinel1_img = sentinel1.filter(ee.Filter.eq('system:index', sar_water.get('system:index'))).first()\n",
    "landsat8_img = landsat8.filter(ee.Filter.eq('system:index', optical_water.get('system:index'))).first()"
   ]
  },
  {
   "cell_type": "code",
   "execution_count": null,
   "metadata": {
    "id": "XtACkCuO6lDm"
   },
   "outputs": [],
   "source": [
    "fig,ax = plt.subplots(ncols=3,nrows=2,figsize=(15,7),\n",
    "                      subplot_kw={'projection': ccrs.PlateCarree()})\n",
    "\n",
    "dimsize = 1500\n",
    "\n",
    "# use cartoee to get a map\n",
    "cartoee.add_layer(ax[0,0], sentinel1_img, region=region, vis_params=s1_vis, dims=dimsize)\n",
    "cartoee.add_layer(ax[0,1], sar_water, region=region, vis_params={\"bands\":'proba',\"min\":0,\"max\":100}, cmap='magma', dims=dimsize)\n",
    "cartoee.add_layer(ax[0,2], sar_water, region=region, vis_params={\"bands\":'water',\"min\":0,\"max\":1}, cmap='Blues', dims=dimsize)\n",
    "\n",
    "\n",
    "# add gridlines to the map at a specified interval\n",
    "cartoee.add_gridlines(ax[0,0], interval=[0.25, 0.25], linestyle=\":\")\n",
    "cartoee.add_gridlines(ax[0,1], interval=[0.25, 0.25], linestyle=\":\")\n",
    "cartoee.add_gridlines(ax[0,2], interval=[0.25, 0.25], linestyle=\":\")\n",
    "\n",
    "# ax[0,0].xaxis.tick_top()\n",
    "# ax[0,1].xaxis.tick_top()\n",
    "# ax[0,2].xaxis.tick_top()\n",
    "# ax[0,0].set_xticklabels([])\n",
    "# ax[0,1].set_xticklabels([])\n",
    "# ax[0,2].set_xticklabels([])\n",
    "# ax[0,1].set_yticklabels([])\n",
    "ax[0,1].get_yaxis().set_visible(False)\n",
    "ax[0,2].yaxis.tick_right()\n",
    "\n",
    "ax[0,0].set_title(f'a) Sentinel 1 observation {sar_obs_date}',loc='left', fontsize=10)\n",
    "ax[0,1].set_title(f'b) Sentinel 1 water probability',loc='left', fontsize=10)\n",
    "ax[0,2].set_title(f'c) Sentinel 1 predicted water',loc='left', fontsize=10)\n",
    "\n",
    "\n",
    "\n",
    "# use cartoee to get a map\n",
    "cartoee.add_layer(ax[1,0], landsat8_img, region=region, vis_params=lc8_vis, dims=dimsize)\n",
    "cartoee.add_layer(ax[1,1], optical_water, region=region, vis_params={\"bands\":'proba',\"min\":0,\"max\":100}, cmap='magma', dims=dimsize)\n",
    "cartoee.add_layer(ax[1,2], optical_water, region=region, vis_params={\"bands\":'water',\"min\":0,\"max\":1}, cmap='Blues', dims=dimsize)\n",
    "\n",
    "\n",
    "# add gridlines to the map at a specified interval\n",
    "cartoee.add_gridlines(ax[1,0], interval=[0.25, 0.25], linestyle=\":\")\n",
    "cartoee.add_gridlines(ax[1,1], interval=[0.25, 0.25], linestyle=\":\")\n",
    "cartoee.add_gridlines(ax[1,2], interval=[0.25, 0.25], linestyle=\":\")\n",
    "\n",
    "ax[1,1].get_yaxis().set_visible(False)\n",
    "ax[1,2].yaxis.tick_right()\n",
    "\n",
    "\n",
    "ax[1,0].set_title(f'd) Landsat 8 observation {optical_obs_date}',loc='left', fontsize=10)\n",
    "ax[1,1].set_title(f'e) Landsat 8 water probability',loc='left', fontsize=10)\n",
    "ax[1,2].set_title(f'f) Landsat 8 predicted water (gap filled)',loc='left', fontsize=10)\n",
    "\n",
    "\n",
    "cax1 = fig.add_axes([0.41, 0.05, 0.2, 0.01])\n",
    "cax2 = fig.add_axes([0.69, 0.05, 0.2, 0.01])\n",
    "\n",
    "norm1 = mpl.colors.Normalize(vmin=0, vmax=100)\n",
    "\n",
    "cb1 = mpl.colorbar.ColorbarBase(cax1, cmap=mpl.cm.magma,\n",
    "                                norm=norm1,\n",
    "                                orientation='horizontal')\n",
    "cb1.set_label('Probability [%]')\n",
    "\n",
    "bounds = [0.0, 0.5, 1.0]\n",
    "cmap = mpl.colormaps['Blues']\n",
    "cbarcolors = mpl.colors.ListedColormap([mpl.colors.rgb2hex(cmap(i)) for i in range(2)])\n",
    "norm2 = mpl.colors.BoundaryNorm(bounds, cmap.N)\n",
    "\n",
    "cb2 = mpl.colorbar.ColorbarBase(cax2, cmap=cmap,\n",
    "                                norm=norm2,\n",
    "                                orientation='horizontal')\n",
    "\n",
    "cb2.ax.set_xticks([0.25,0.75])\n",
    "cb2.ax.set_xticklabels(['No water','Water'])\n",
    "\n",
    "plt.savefig('kh_sufacewater.png',dpi=300,bbox_inches='tight',facecolor='white')\n",
    "\n",
    "plt.show()"
   ]
  },
  {
   "cell_type": "code",
   "execution_count": null,
   "metadata": {
    "id": "HdqEYhD76oCk"
   },
   "outputs": [],
   "source": [
    "fig,ax = plt.subplots(ncols=2,nrows=1,figsize=(15,7),\n",
    "                      subplot_kw={'projection': ccrs.PlateCarree()})\n",
    "\n",
    "# use cartoee to get a map\n",
    "cartoee.add_layer(ax[0], sentinel1_img, region=region, vis_params=s1_vis,cmap='gray', dims=500)\n",
    "\n",
    "cartoee.add_layer(ax[1], sar_water, region=region, vis_params={\"bands\":'water',\"min\":0,\"max\":1}, cmap='Blues', dims=500)\n",
    "\n",
    "\n",
    "# add gridlines to the map at a specified interval\n",
    "cartoee.add_gridlines(ax[0], interval=[0.25, 0.25], linestyle=\":\")\n",
    "cartoee.add_gridlines(ax[1], interval=[0.25, 0.25], linestyle=\":\")\n",
    "\n",
    "ax[0].set_title(f'Sentinel 1 observation {sar_obs_date}',loc='left')\n",
    "ax[1].set_title(f'Sentinel 1 predicted water',loc='left')\n",
    "\n",
    "\n",
    "# add coastlines using the cartopy api\n",
    "# ax.coastlines(color=\"red\")\n",
    "\n",
    "plt.show()"
   ]
  },
  {
   "cell_type": "markdown",
   "metadata": {
    "id": "5Je89c6fWxwp"
   },
   "source": [
    "# histograms of observation counts per region"
   ]
  },
  {
   "cell_type": "code",
   "execution_count": null,
   "metadata": {
    "id": "M9OiAuGdFStP"
   },
   "outputs": [],
   "source": [
    "regions = ['Cambodia', 'Colombia','Gabon','Mexico','Myanmar','Zambia']"
   ]
  },
  {
   "cell_type": "code",
   "execution_count": null,
   "metadata": {
    "id": "SR-xy9ujZ9SJ"
   },
   "outputs": [],
   "source": [
    "abcs = ['a','b','c','d','e','f']"
   ]
  },
  {
   "cell_type": "code",
   "execution_count": null,
   "metadata": {
    "id": "oc93u99-HO6X"
   },
   "outputs": [],
   "source": [
    "f,ax = plt.subplots(nrows=3,ncols=2,sharex=False,figsize=(10,7))\n",
    "\n",
    "\n",
    "histograms = {}\n",
    "\n",
    "for i, region in enumerate(regions):\n",
    "    val_collection = ee.FeatureCollection(f'projects/byu-hydroinformatics-gee/assets/kmarkert/datafusion/validation/{region}_all_wgs84')\n",
    "    bbox = val_collection.geometry().bounds()\n",
    "\n",
    "    ic = ee.ImageCollection(f'projects/byu-hydroinformatics-gee/assets/kmarkert/datafusion/{region}_data_fusion_v4') \\\n",
    "        .filterBounds(bbox)\n",
    "\n",
    "    sar = ic.filter(ee.Filter.stringStartsWith('system:index', 'S1'))\n",
    "    optical = ic.filter(ee.Filter.stringStartsWith('system:index', 'LC08'))\n",
    "\n",
    "    sar_total_obs = sar.select('proba').count()\n",
    "    optical_total_obs = optical.select('proba').count()\n",
    "    all_total_obs = ic.select('proba').count()\n",
    "\n",
    "    optical_x = optical_total_obs.reduceRegion(\n",
    "        reducer=ee.Reducer.autoHistogram(),\n",
    "        scale=30,\n",
    "        geometry=bbox,\n",
    "        maxPixels=1e10\n",
    "    )\n",
    "    sar_x = sar_total_obs.reduceRegion(\n",
    "        reducer=ee.Reducer.autoHistogram(),\n",
    "        scale=30,\n",
    "        geometry=bbox,\n",
    "        maxPixels=1e10\n",
    "    )\n",
    "    all_x = all_total_obs.reduceRegion(\n",
    "        reducer=ee.Reducer.autoHistogram(),\n",
    "        scale=30,\n",
    "        geometry=bbox,\n",
    "        maxPixels=1e10\n",
    "    )\n",
    "\n",
    "    # get the histogram data\n",
    "    try:\n",
    "        optical_hist = np.array(optical_x.getInfo()['proba'])\n",
    "\n",
    "    except KeyError:\n",
    "        optical_hist = np.array([[0,0]])\n",
    "\n",
    "    sar_hist = np.array(sar_x.getInfo()['proba'])\n",
    "    all_hist = np.array(all_x.getInfo()['proba'])\n",
    "\n",
    "    # unpack the histogram data\n",
    "    optical_bins, optical_counts = optical_hist[:,0], optical_hist[:,1]\n",
    "    sar_bins, sar_counts = sar_hist[:,0], sar_hist[:,1]\n",
    "    all_bins, all_counts = all_hist[:,0], all_hist[:,1]\n",
    "\n",
    "    # normalize pixel counts\n",
    "    optical_counts = optical_counts / np.sum(optical_counts)\n",
    "    sar_counts = sar_counts / np.sum(sar_counts)\n",
    "    all_counts = all_counts / np.sum(all_counts)\n",
    "\n",
    "    r = i % 3\n",
    "    c = 0 if i <= 2 else 1\n",
    "\n",
    "    # ax[i].fill_between(optical_bins, 0, optical_counts, alpha=0.7,label='Optical only')\n",
    "    # ax[i].fill_between(sar_bins, 0, sar_counts, alpha=0.7,color='C1',label='SAR only')\n",
    "    # ax[i].fill_between(all_bins, 0, all_counts, alpha=0.7,color='C2', label='Optical+SAR')\n",
    "\n",
    "    ax[r,c].bar(optical_bins, optical_counts, width=1,alpha=0.7,label='Optical only')\n",
    "    ax[r,c].bar(sar_bins, sar_counts, width=1,alpha=0.7,color='C1',label='SAR only')\n",
    "    if region != 'Myanmar':\n",
    "        ax[r,c].bar(all_bins, all_counts, width=1,alpha=0.7,color='C2', label='Optical+SAR')\n",
    "\n",
    "\n",
    "    if i == 3:\n",
    "        ax[r,-1].legend(loc='upper right')\n",
    "\n",
    "    ax[r,c].set_title(f'{abcs[i]}) {region}', loc='left', fontsize=10)\n",
    "\n",
    "\n",
    "    histograms[region] = {\n",
    "        'optical' : {\n",
    "            'bins': optical_bins,\n",
    "            'counts': optical_counts\n",
    "        },\n",
    "        'sar' : {\n",
    "            'bins': sar_bins,\n",
    "            'counts': sar_counts\n",
    "        },\n",
    "        'all': {\n",
    "            'bins': all_bins,\n",
    "            'counts': all_counts\n",
    "        }\n",
    "\n",
    "    }\n",
    "\n",
    "# ax[-1].set_xlabel('Pixel observation count')\n",
    "\n",
    "plt.tight_layout(rect=(0.03,0.03,1,1))\n",
    "\n",
    "f.text(0.5,0.01, 'Pixel observation count', ha='center')\n",
    "f.text(0.01,0.5, 'Frequency', va='center',rotation=90)\n",
    "\n",
    "plt.savefig('region_observation_count_histograms.png',dpi=200,bbox_inches='tight')\n",
    "\n",
    "plt.show()"
   ]
  },
  {
   "cell_type": "code",
   "execution_count": null,
   "metadata": {
    "id": "hIlCiYnwM0Q1"
   },
   "outputs": [],
   "source": [
    "rows = []\n",
    "for region, hists in histograms.items():\n",
    "    print(region)\n",
    "    region_row = {'region': region}\n",
    "    for sensor, data in hists.items():\n",
    "        x = np.sum(data['bins'] * data['counts'])\n",
    "        print(f'{sensor} weighted average: {x}')\n",
    "        region_row[sensor] = x\n",
    "    print('\\n')\n",
    "\n",
    "    rows.append(region_row)\n"
   ]
  },
  {
   "cell_type": "code",
   "execution_count": null,
   "metadata": {
    "id": "YcfadXbdDJ8f"
   },
   "outputs": [],
   "source": [
    "import pandas as pd"
   ]
  },
  {
   "cell_type": "code",
   "execution_count": null,
   "metadata": {
    "id": "EsUyKgR-DHEk"
   },
   "outputs": [],
   "source": [
    "df = pd.DataFrame(rows)"
   ]
  },
  {
   "cell_type": "code",
   "execution_count": null,
   "metadata": {
    "id": "9LrwDO8aDJNe"
   },
   "outputs": [],
   "source": [
    "df['optical_pct_change'] = (df['all'] - df['optical']) / df['optical']\n",
    "df['sar_pct_change'] = (df['all'] - df['sar']) / df['sar']"
   ]
  },
  {
   "cell_type": "code",
   "execution_count": null,
   "metadata": {
    "id": "HsOZhhKIDLWZ"
   },
   "outputs": [],
   "source": [
    "df"
   ]
  },
  {
   "cell_type": "code",
   "execution_count": null,
   "metadata": {
    "id": "AwwKv004iWEi"
   },
   "outputs": [],
   "source": [
    "df.describe()"
   ]
  },
  {
   "cell_type": "code",
   "execution_count": null,
   "metadata": {
    "id": "DgF3I18EilqY"
   },
   "outputs": [],
   "source": []
  }
 ],
 "metadata": {
  "colab": {
   "private_outputs": true,
   "provenance": []
  },
  "kernelspec": {
   "display_name": "Python (geo-ml)",
   "language": "python",
   "name": "geo-ml"
  },
  "language_info": {
   "codemirror_mode": {
    "name": "ipython",
    "version": 3
   },
   "file_extension": ".py",
   "mimetype": "text/x-python",
   "name": "python",
   "nbconvert_exporter": "python",
   "pygments_lexer": "ipython3",
   "version": "3.10.5"
  }
 },
 "nbformat": 4,
 "nbformat_minor": 4
}
