{
 "cells": [
  {
   "cell_type": "markdown",
   "id": "76c23523-5ee6-4aee-9c43-06ff572d6179",
   "metadata": {},
   "source": [
    "# Data fusion validation figures\n",
    "\n",
    "This notebook is used to create the figures for validation."
   ]
  },
  {
   "cell_type": "code",
   "execution_count": null,
   "id": "f777ce93-ba6a-4312-adf1-1744366e1f46",
   "metadata": {},
   "outputs": [],
   "source": [
    "import numpy as np\n",
    "import pandas as pd\n",
    "from scipy import stats\n",
    "from sklearn import metrics\n",
    "from pathlib import Path\n",
    "import seaborn as sns\n",
    "\n",
    "import matplotlib.pyplot as plt"
   ]
  },
  {
   "cell_type": "code",
   "execution_count": null,
   "id": "d7699273-2671-44b1-bb0b-0bb17cc05e77",
   "metadata": {},
   "outputs": [],
   "source": [
    "# directory where the validation samples were downloaded\n",
    "# change to what is needed\n",
    "datadir = Path('PATH-TO-DATA')"
   ]
  },
  {
   "cell_type": "code",
   "execution_count": null,
   "id": "c5f60dcc-61c0-41ae-a550-9ae99ca8e02e",
   "metadata": {},
   "outputs": [],
   "source": [
    "# read in the CSV\n",
    "df = pd.read_csv(datadir / 'all_water_val.csv')"
   ]
  },
  {
   "cell_type": "code",
   "execution_count": null,
   "id": "2da18ac7-739f-4468-aeca-2ea8d3859202",
   "metadata": {},
   "outputs": [],
   "source": [
    "df"
   ]
  },
  {
   "cell_type": "code",
   "execution_count": null,
   "id": "2b8e070a-284a-416a-baeb-db501352ad4d",
   "metadata": {},
   "outputs": [],
   "source": [
    "# function to calculate multiple accuracy metrics from a dataframe\n",
    "def accurracy_assessment(df):\n",
    "    # get the confusion matrix\n",
    "    cm = metrics.confusion_matrix(df['wat'],df['water_f'],normalize='true')\n",
    "    acc = metrics.accuracy_score(df['wat'],df['water_f'])\n",
    "    \n",
    "    # get the different accuracy metrics from the confusion matrix\n",
    "    tn, fp, fn, tp = cm.ravel()\n",
    "    far = fp / (fp + tn)\n",
    "    pod = tp / (tp + fn)\n",
    "    csi = tn / (tn + fn + fp)\n",
    "    \n",
    "    return dict(\n",
    "        acc = acc,\n",
    "        tn = tn,\n",
    "        fp = fp,\n",
    "        fn = fn,\n",
    "        tp = tp,\n",
    "        far = far,\n",
    "        pod = pod,\n",
    "        csi = csi\n",
    "    )\n",
    "\n",
    "# function to recreate a confusion matrix from the different components\n",
    "def cm_from_components(components):\n",
    "    tn, fp, fn, tp = components\n",
    "    cm = [[tn, fp],\n",
    "          [fn, tp]]\n",
    "    \n",
    "    return cm"
   ]
  },
  {
   "cell_type": "markdown",
   "id": "b131a016-ec7c-428f-ba8c-f2b980c34929",
   "metadata": {},
   "source": [
    "## Accuracy for all samples"
   ]
  },
  {
   "cell_type": "code",
   "execution_count": null,
   "id": "10316dc1-60bc-41f0-bff7-4f5709bd1000",
   "metadata": {},
   "outputs": [],
   "source": [
    "# get total accuracy assessment for all samples\n",
    "all_results = accurracy_assessment(df)"
   ]
  },
  {
   "cell_type": "code",
   "execution_count": null,
   "id": "f1aebe42-c0bc-4be1-8ca2-e883a979f5ad",
   "metadata": {},
   "outputs": [],
   "source": [
    "all_results"
   ]
  },
  {
   "cell_type": "code",
   "execution_count": null,
   "id": "c02279ef-3f06-48d8-ae4e-19213c2f97ac",
   "metadata": {},
   "outputs": [],
   "source": [
    "all_cm = cm_from_components(list(all_results.values())[1:5])"
   ]
  },
  {
   "cell_type": "code",
   "execution_count": null,
   "id": "1e9a5577-b18e-4ac0-8fd3-216a088cbdfe",
   "metadata": {},
   "outputs": [],
   "source": [
    "# plot the confusion matrix for all samples\n",
    "ax = sns.heatmap(all_cm, vmin=0, vmax=1, annot=True, fmt=\".2f\", cmap=\"YlGnBu\", cbar_kws={'label': ''})\n",
    "ax.set_yticklabels(['No Water','Water'])\n",
    "ax.set_xticklabels(['No Water','Water'])\n",
    "\n",
    "ax.set_ylabel('True')\n",
    "ax.set_xlabel('Estimated')\n",
    "plt.savefig('confusion_matrix.png',bbox_inches='tight',dpi=200)\n",
    "plt.show()"
   ]
  },
  {
   "cell_type": "markdown",
   "id": "ed704827-6349-4149-92e1-d81732a21de0",
   "metadata": {},
   "source": [
    "## Accuracy for each region"
   ]
  },
  {
   "cell_type": "code",
   "execution_count": null,
   "id": "a04ffeb8-6220-4339-a2de-03038efb74c6",
   "metadata": {},
   "outputs": [],
   "source": [
    "# loop through each region and get the accuracy metrics\n",
    "regions = ['Colombia','Gabon','Mexico','Zambia','Cambodia','Myanmar']\n",
    "\n",
    "region_results = []\n",
    "\n",
    "for region in regions:\n",
    "    region_df = df.loc[df['region'] == region]\n",
    "    region_acc = accurracy_assessment(region_df)\n",
    "    region_acc['region'] = region\n",
    "    region_acc['n_records'] = region_df.shape[0]\n",
    "    region_results.append(region_acc)\n",
    "    \n",
    "region_acc_df = pd.DataFrame(region_results).set_index('region')"
   ]
  },
  {
   "cell_type": "code",
   "execution_count": null,
   "id": "13689080-3fdd-42f7-8461-effb7d5447eb",
   "metadata": {},
   "outputs": [],
   "source": [
    "region_acc_df"
   ]
  },
  {
   "cell_type": "markdown",
   "id": "9c6dfbfc-2797-4360-b762-6e023fcf7a7b",
   "metadata": {},
   "source": [
    "## Accuracy in time"
   ]
  },
  {
   "cell_type": "code",
   "execution_count": null,
   "id": "f098f290-5336-4aa2-9b6c-9161eff8de14",
   "metadata": {},
   "outputs": [],
   "source": [
    "# loop over each region and month to get the accuracy\n",
    "months = range(1,13)\n",
    "\n",
    "region_dfs = []\n",
    "for region in regions:\n",
    "    region_df = df.loc[df['region'] == region]\n",
    "    month_results = []\n",
    "    for month in months :\n",
    "        month_df = region_df.loc[df['month_ID'] == month]\n",
    "        if month_df.shape[0] > 0:\n",
    "            month_acc = accurracy_assessment(month_df)\n",
    "            month_acc['month'] = month\n",
    "            month_acc['n_records'] = month_df.shape[0]\n",
    "            \n",
    "        else:\n",
    "            month_acc = dict(\n",
    "                acc=np.nan,\n",
    "                tn=np.nan,\n",
    "                fp=np.nan,\n",
    "                fn=np.nan,\n",
    "                far=np.nan,\n",
    "                pod=np.nan,\n",
    "                csi=np.nan,\n",
    "                month=month,\n",
    "                n_records=0\n",
    "            )\n",
    "            \n",
    "        month_results.append(month_acc)\n",
    "            \n",
    "    \n",
    "    month_acc_df = pd.DataFrame(month_results).set_index('month')\n",
    "    region_dfs.append(month_acc_df)"
   ]
  },
  {
   "cell_type": "code",
   "execution_count": null,
   "id": "98e3a8e0-0f51-4045-ad5a-feb5ca7e14e2",
   "metadata": {},
   "outputs": [],
   "source": [
    "# region in a table with the time series of cloud cover for each region\n",
    "clear_region_df = pd.read_csv(datadir / 'region_clear_ratios.csv')"
   ]
  },
  {
   "cell_type": "code",
   "execution_count": null,
   "id": "baeec206-692a-4424-80f4-84064e2399e3",
   "metadata": {},
   "outputs": [],
   "source": [
    "clear_region_df.head()"
   ]
  },
  {
   "cell_type": "code",
   "execution_count": null,
   "id": "e8c5cfa5-1684-4fed-baf3-8b891f9b6f2c",
   "metadata": {},
   "outputs": [],
   "source": [
    "import matplotlib.patches as mpatches"
   ]
  },
  {
   "cell_type": "code",
   "execution_count": null,
   "id": "a68443b4-239f-4463-9827-24df27a76310",
   "metadata": {},
   "outputs": [],
   "source": [
    "f, ax = plt.subplots(nrows=len(region_dfs), sharey=True,figsize=(12,15))\n",
    "abcs = ['a','b','c','d','e', 'f']\n",
    "\n",
    "acc = []\n",
    "cc = []\n",
    "\n",
    "for i in range(len(region_dfs)):\n",
    "    region = regions[i]\n",
    "    \n",
    "    cloud_df = clear_region_df.loc[clear_region_df['region']==region].set_index('month')\n",
    "    \n",
    "    ax[i].set_title(f'{abcs[i]}) {region}',loc='left')\n",
    "    region_dfs[i][['acc']].plot.bar(ax=ax[i],legend=False,label='Accuracy')\n",
    "    axr = ax[i].twinx()\n",
    "    (1-cloud_df['mean']).plot(ax=axr,color='k',label='Cloud Cover')\n",
    "    axr.set_ylim(0,0.1)\n",
    "    ax[i].set_ylim(0.7,1)\n",
    "    ax[i].set_ylabel('')\n",
    "    ax[i].set_xlabel('')\n",
    "    axr.set_yticks([0,0.25,0.5,0.75, 1])\n",
    "    ax[i].set_xticklabels(['' for i in range(12)])\n",
    "    \n",
    "    acc.append(region_dfs[i][['acc']].values.ravel())\n",
    "    cc.append((1-cloud_df[['mean']]).values.ravel())\n",
    "    \n",
    "    if i == 0:\n",
    "        # where some data has already been plotted to ax\n",
    "        handles, labels = axr.get_legend_handles_labels()\n",
    "\n",
    "        # manually define a new patch \n",
    "        patch = mpatches.Patch(color='C0', label='Accuracy')\n",
    "\n",
    "        # handles is a list, so append manual patch\n",
    "        handles.append(patch) \n",
    "\n",
    "        # plot the legend\n",
    "        axr.legend(handles=handles, loc='upper right')\n",
    "\n",
    "ax[-1].set_xticklabels(['Jan','Feb','Mar','Apr','May','Jun','Jul','Aug','Sep','Oct','Nov','Dec',],rotation=45)\n",
    "\n",
    "f.text(0.05, 0.5, 'Accuracy [%]', va='center', rotation=90)\n",
    "f.text(0.95, 0.5, 'Average Cloud Cover [%]', va='center', rotation=270)\n",
    "\n",
    "plt.savefig('accuracy_cloud_timeseries.png',bbox_inches='tight',dpi=200)\n",
    "    \n",
    "plt.show()"
   ]
  },
  {
   "cell_type": "code",
   "execution_count": null,
   "id": "76bf053e-7c8c-49ff-b85a-ef1220e6b287",
   "metadata": {},
   "outputs": [],
   "source": [
    "# concatenate the values for accuracy and cloud cover into arrays\n",
    "acc_arr = np.concatenate(acc)\n",
    "cc_arr = np.concatenate(cc)"
   ]
  },
  {
   "cell_type": "code",
   "execution_count": null,
   "id": "61035fd4-c472-45a2-98bd-0693db6ab384",
   "metadata": {},
   "outputs": [],
   "source": [
    "# get the indices where values are finite\n",
    "valid_idx = np.where(np.isfinite(acc_arr))"
   ]
  },
  {
   "cell_type": "code",
   "execution_count": null,
   "id": "b2f8b5e1-5003-41f0-8d4f-ad81a03cc687",
   "metadata": {},
   "outputs": [],
   "source": [
    "# print the correlation between accuracy and cloud cover\n",
    "stats.pearsonr(acc_arr[valid_idx], cc_arr[valid_idx])"
   ]
  },
  {
   "cell_type": "code",
   "execution_count": null,
   "id": "edd14fce-1843-445f-a371-b3894cd2600d",
   "metadata": {},
   "outputs": [],
   "source": []
  }
 ],
 "metadata": {
  "kernelspec": {
   "display_name": "Python (geo-ml)",
   "language": "python",
   "name": "geo-ml"
  },
  "language_info": {
   "codemirror_mode": {
    "name": "ipython",
    "version": 3
   },
   "file_extension": ".py",
   "mimetype": "text/x-python",
   "name": "python",
   "nbconvert_exporter": "python",
   "pygments_lexer": "ipython3",
   "version": "3.10.5"
  }
 },
 "nbformat": 4,
 "nbformat_minor": 5
}
